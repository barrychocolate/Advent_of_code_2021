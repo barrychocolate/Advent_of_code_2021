{
 "cells": [
  {
   "cell_type": "markdown",
   "id": "dcc73471",
   "metadata": {},
   "source": [
    "[Back to the index](../index.html)"
   ]
  },
  {
   "cell_type": "markdown",
   "id": "47386d03",
   "metadata": {},
   "source": [
    "# Day 2"
   ]
  },
  {
   "cell_type": "markdown",
   "id": "80816e42",
   "metadata": {},
   "source": [
    "## Dive!\n",
    "Now, you need to figure out how to pilot this thing.\n",
    "\n",
    "It seems like the submarine can take a series of commands like forward 1, down 2, or up 3:\n",
    "\n",
    "forward X increases the horizontal position by X units.\n",
    "\n",
    "down X increases the depth by X units.\n",
    "\n",
    "up X decreases the depth by X units.\n",
    "\n",
    "Note that since you're on a submarine, down and up affect your depth, and so they have the opposite result of what you might expect.\n",
    "\n",
    "The submarine seems to already have a planned course (your puzzle input). You should probably figure out where it's going. For example:\n",
    "\n",
    "* forward 5\n",
    "* down 5\n",
    "* forward 8\n",
    "* up 3\n",
    "* down 8\n",
    "* forward 2\n",
    "\n",
    "Your horizontal position and depth both start at 0. The steps above would then modify them as follows:\n",
    "\n",
    "* forward 5 adds 5 to your horizontal position, a total of 5.\n",
    "* down 5 adds 5 to your depth, resulting in a value of 5.\n",
    "* forward 8 adds 8 to your horizontal position, a total of 13.\n",
    "* up 3 decreases your depth by 3, resulting in a value of 2.\n",
    "* down 8 adds 8 to your depth, resulting in a value of 10.\n",
    "* forward 2 adds 2 to your horizontal position, a total of 15.\n",
    "\n",
    "After following these instructions, you would have a horizontal position of 15 and a depth of 10. (Multiplying these together produces 150.)\n",
    "\n",
    "Calculate the horizontal position and depth you would have after following the planned course. What do you get if you multiply your final horizontal position by your final depth?"
   ]
  },
  {
   "cell_type": "markdown",
   "id": "c3fb9af1",
   "metadata": {},
   "source": [
    "## Setup"
   ]
  },
  {
   "cell_type": "code",
   "execution_count": 5,
   "id": "451d66ae",
   "metadata": {},
   "outputs": [],
   "source": [
    "# Setup - load any packages\n",
    "# Setup - load any packages\n",
    "import pandas as pd"
   ]
  },
  {
   "cell_type": "markdown",
   "id": "23bd0026",
   "metadata": {},
   "source": [
    "## Load the data"
   ]
  },
  {
   "cell_type": "code",
   "execution_count": 60,
   "id": "3e0d5bcf",
   "metadata": {},
   "outputs": [
    {
     "name": "stdout",
     "output_type": "stream",
     "text": [
      "direction    object\n",
      "distance      int64\n",
      "dtype: object\n"
     ]
    },
    {
     "data": {
      "text/html": [
       "<div>\n",
       "<style scoped>\n",
       "    .dataframe tbody tr th:only-of-type {\n",
       "        vertical-align: middle;\n",
       "    }\n",
       "\n",
       "    .dataframe tbody tr th {\n",
       "        vertical-align: top;\n",
       "    }\n",
       "\n",
       "    .dataframe thead th {\n",
       "        text-align: right;\n",
       "    }\n",
       "</style>\n",
       "<table border=\"1\" class=\"dataframe\">\n",
       "  <thead>\n",
       "    <tr style=\"text-align: right;\">\n",
       "      <th></th>\n",
       "      <th>distance</th>\n",
       "    </tr>\n",
       "    <tr>\n",
       "      <th>direction</th>\n",
       "      <th></th>\n",
       "    </tr>\n",
       "  </thead>\n",
       "  <tbody>\n",
       "    <tr>\n",
       "      <th>forward</th>\n",
       "      <td>2</td>\n",
       "    </tr>\n",
       "    <tr>\n",
       "      <th>down</th>\n",
       "      <td>9</td>\n",
       "    </tr>\n",
       "    <tr>\n",
       "      <th>up</th>\n",
       "      <td>6</td>\n",
       "    </tr>\n",
       "    <tr>\n",
       "      <th>forward</th>\n",
       "      <td>1</td>\n",
       "    </tr>\n",
       "    <tr>\n",
       "      <th>down</th>\n",
       "      <td>5</td>\n",
       "    </tr>\n",
       "  </tbody>\n",
       "</table>\n",
       "</div>"
      ],
      "text/plain": [
       "           distance\n",
       "direction          \n",
       "forward           2\n",
       "down              9\n",
       "up                6\n",
       "forward           1\n",
       "down              5"
      ]
     },
     "execution_count": 60,
     "metadata": {},
     "output_type": "execute_result"
    }
   ],
   "source": [
    "# load data into Pandas DataFrame\n",
    "data_raw = pd.read_csv('day2_data.txt',delimiter=' ', index_col=False, header=None)\n",
    "\n",
    "# Add column names\n",
    "data_raw.columns =['direction', 'distance']\n",
    "\n",
    "# Check the data types of the columns\n",
    "print(data_raw.dtypes)\n",
    "\n",
    "# set the direction column as the index\n",
    "data_raw=data_raw.set_index('direction')\n",
    "\n",
    "# View the first few rows of the data\n",
    "data_raw.head()"
   ]
  },
  {
   "cell_type": "markdown",
   "id": "64127bcf",
   "metadata": {},
   "source": [
    "# Part 1"
   ]
  },
  {
   "cell_type": "code",
   "execution_count": 61,
   "id": "ba5e7400",
   "metadata": {},
   "outputs": [
    {
     "name": "stdout",
     "output_type": "stream",
     "text": [
      "           distance\n",
      "direction          \n",
      "down           1991\n",
      "forward        2010\n",
      "up              961\n",
      "distance = 2010 depth = 1030\n",
      "answer = 2070300\n"
     ]
    }
   ],
   "source": [
    "# copy the raw data for use in part 1\n",
    "part1=data_raw.copy()\n",
    "\n",
    "# variables to store the distance and depth\n",
    "distance=0\n",
    "depth=0\n",
    "\n",
    "# Group by the direction to get the overal distances\n",
    "part1=part1.groupby(['direction']).sum()\n",
    "\n",
    "# view the group by results\n",
    "print(part1.head())\n",
    "\n",
    "# set the distance\n",
    "distance=part1.loc['forward'][0]\n",
    "\n",
    "# set the depth\n",
    "depth = depth + part1.loc['down'][0] - part1.loc['up'][0] \n",
    "\n",
    "print(f'distance = {distance} depth = {depth}')\n",
    "\n",
    "position = distance * depth\n",
    "\n",
    "print (f'answer = {position}')"
   ]
  },
  {
   "cell_type": "markdown",
   "id": "65683052",
   "metadata": {},
   "source": [
    "## Part 2\n",
    "Based on your calculations, the planned course doesn't seem to make any sense. You find the submarine manual and discover that the process is actually slightly more complicated.\n",
    "\n",
    "In addition to horizontal position and depth, you'll also need to track a third value, aim, which also starts at 0. The commands also mean something entirely different than you first thought:\n",
    "\n",
    "* down X increases your aim by X units.\n",
    "* up X decreases your aim by X units.\n",
    "* forward X does two things:\n",
    "* It increases your horizontal position by X units.\n",
    "* It increases your depth by your aim multiplied by X.\n",
    "* Again note that since you're on a submarine, down and up do the opposite of what you might expect: \"down\" means aiming in the positive direction.\n",
    "\n",
    "Now, the above example does something different:\n",
    "\n",
    "* forward 5 adds 5 to your horizontal position, a total of 5. Because your aim is 0, your depth does not change.\n",
    "* down 5 adds 5 to your aim, resulting in a value of 5.\n",
    "* forward 8 adds 8 to your horizontal position, a total of 13. Because your aim is 5, your depth increases by 8*5=40.\n",
    "* up 3 decreases your aim by 3, resulting in a value of 2.\n",
    "* down 8 adds 8 to your aim, resulting in a value of 10.\n",
    "* * forward 2 adds 2 to your horizontal position, a total of 15. Because your aim is 10, your depth increases by 2*10=20 to a total of 60.\n",
    "\n",
    "After following these new instructions, you would have a horizontal position of 15 and a depth of 60. (Multiplying these produces 900.)\n",
    "\n",
    "Using this new interpretation of the commands, calculate the horizontal position and depth you would have after following the planned course. What do you get if you multiply your final horizontal position by your final depth?"
   ]
  },
  {
   "cell_type": "code",
   "execution_count": 81,
   "id": "81cdc8b4",
   "metadata": {},
   "outputs": [
    {
     "name": "stdout",
     "output_type": "stream",
     "text": [
      "answer = 2078985210\n"
     ]
    }
   ],
   "source": [
    "# copy the raw data for use in part 2\n",
    "part2=data_raw.copy()\n",
    "\n",
    "# Drop the index\n",
    "part2.reset_index(drop=False, inplace=True)\n",
    "\n",
    "# declare variables to store the distance, depth and aim\n",
    "p2_dist=0\n",
    "p2_depth=0\n",
    "p2_aim=0\n",
    "\n",
    "# itterate through each row of directions\n",
    "for index, row in part2.iterrows():\n",
    "    if (row['direction']=='forward'):\n",
    "        #increase distance\n",
    "        p2_dist += row['distance']\n",
    "        \n",
    "        # check aim of submarine\n",
    "        if p2_aim!= 0:\n",
    "            # not aiming forward so increase/decrease depth by aim\n",
    "            p2_depth = p2_depth + (row['distance'] * p2_aim)\n",
    "    elif (row['direction']=='down'):\n",
    "        # increase aim\n",
    "        p2_aim=p2_aim + row['distance']\n",
    "    elif (row['direction']=='up'):\n",
    "        # deincrease aim\n",
    "        p2_aim=p2_aim - row['distance']\n",
    "        \n",
    "p2_position = p2_dist * p2_depth\n",
    "print (f'answer = {p2_position}')"
   ]
  }
 ],
 "metadata": {
  "kernelspec": {
   "display_name": "Python 3 (ipykernel)",
   "language": "python",
   "name": "python3"
  },
  "language_info": {
   "codemirror_mode": {
    "name": "ipython",
    "version": 3
   },
   "file_extension": ".py",
   "mimetype": "text/x-python",
   "name": "python",
   "nbconvert_exporter": "python",
   "pygments_lexer": "ipython3",
   "version": "3.8.12"
  }
 },
 "nbformat": 4,
 "nbformat_minor": 5
}
