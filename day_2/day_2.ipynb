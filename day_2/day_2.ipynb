{
 "cells": [
  {
   "cell_type": "markdown",
   "id": "dcc73471",
   "metadata": {},
   "source": [
    "[Back to the index](../index.html)"
   ]
  },
  {
   "cell_type": "markdown",
   "id": "47386d03",
   "metadata": {},
   "source": [
    "# Day 2"
   ]
  },
  {
   "cell_type": "markdown",
   "id": "80816e42",
   "metadata": {},
   "source": [
    "## Dive!\n",
    "view the [Advent of Code 2021 Day 2 challenge](https://adventofcode.com/2021/day/2)"
   ]
  },
  {
   "cell_type": "markdown",
   "id": "c3fb9af1",
   "metadata": {},
   "source": [
    "## Setup"
   ]
  },
  {
   "cell_type": "code",
   "execution_count": 1,
   "id": "451d66ae",
   "metadata": {},
   "outputs": [],
   "source": [
    "# Setup - load any packages\n",
    "import pandas as pd"
   ]
  },
  {
   "cell_type": "markdown",
   "id": "23bd0026",
   "metadata": {},
   "source": [
    "## Load the data"
   ]
  },
  {
   "cell_type": "code",
   "execution_count": 60,
   "id": "3e0d5bcf",
   "metadata": {},
   "outputs": [
    {
     "name": "stdout",
     "output_type": "stream",
     "text": [
      "direction    object\n",
      "distance      int64\n",
      "dtype: object\n"
     ]
    },
    {
     "data": {
      "text/html": [
       "<div>\n",
       "<style scoped>\n",
       "    .dataframe tbody tr th:only-of-type {\n",
       "        vertical-align: middle;\n",
       "    }\n",
       "\n",
       "    .dataframe tbody tr th {\n",
       "        vertical-align: top;\n",
       "    }\n",
       "\n",
       "    .dataframe thead th {\n",
       "        text-align: right;\n",
       "    }\n",
       "</style>\n",
       "<table border=\"1\" class=\"dataframe\">\n",
       "  <thead>\n",
       "    <tr style=\"text-align: right;\">\n",
       "      <th></th>\n",
       "      <th>distance</th>\n",
       "    </tr>\n",
       "    <tr>\n",
       "      <th>direction</th>\n",
       "      <th></th>\n",
       "    </tr>\n",
       "  </thead>\n",
       "  <tbody>\n",
       "    <tr>\n",
       "      <th>forward</th>\n",
       "      <td>2</td>\n",
       "    </tr>\n",
       "    <tr>\n",
       "      <th>down</th>\n",
       "      <td>9</td>\n",
       "    </tr>\n",
       "    <tr>\n",
       "      <th>up</th>\n",
       "      <td>6</td>\n",
       "    </tr>\n",
       "    <tr>\n",
       "      <th>forward</th>\n",
       "      <td>1</td>\n",
       "    </tr>\n",
       "    <tr>\n",
       "      <th>down</th>\n",
       "      <td>5</td>\n",
       "    </tr>\n",
       "  </tbody>\n",
       "</table>\n",
       "</div>"
      ],
      "text/plain": [
       "           distance\n",
       "direction          \n",
       "forward           2\n",
       "down              9\n",
       "up                6\n",
       "forward           1\n",
       "down              5"
      ]
     },
     "execution_count": 60,
     "metadata": {},
     "output_type": "execute_result"
    }
   ],
   "source": [
    "# load data into Pandas DataFrame\n",
    "data_raw = pd.read_csv('day2_data.txt',delimiter=' ', index_col=False, header=None)\n",
    "\n",
    "# Add column names\n",
    "data_raw.columns =['direction', 'distance']\n",
    "\n",
    "# Check the data types of the columns\n",
    "print(data_raw.dtypes)\n",
    "\n",
    "# set the direction column as the index\n",
    "data_raw=data_raw.set_index('direction')\n",
    "\n",
    "# View the first few rows of the data\n",
    "data_raw.head()"
   ]
  },
  {
   "cell_type": "markdown",
   "id": "64127bcf",
   "metadata": {},
   "source": [
    "# Part 1"
   ]
  },
  {
   "cell_type": "code",
   "execution_count": 61,
   "id": "ba5e7400",
   "metadata": {},
   "outputs": [
    {
     "name": "stdout",
     "output_type": "stream",
     "text": [
      "           distance\n",
      "direction          \n",
      "down           1991\n",
      "forward        2010\n",
      "up              961\n",
      "distance = 2010 depth = 1030\n",
      "answer = 2070300\n"
     ]
    }
   ],
   "source": [
    "# copy the raw data for use in part 1\n",
    "part1=data_raw.copy()\n",
    "\n",
    "# variables to store the distance and depth\n",
    "distance=0\n",
    "depth=0\n",
    "\n",
    "# Group by the direction to get the overal distances\n",
    "part1=part1.groupby(['direction']).sum()\n",
    "\n",
    "# view the group by results\n",
    "print(part1.head())\n",
    "\n",
    "# set the distance\n",
    "distance=part1.loc['forward'][0]\n",
    "\n",
    "# set the depth\n",
    "depth = depth + part1.loc['down'][0] - part1.loc['up'][0] \n",
    "\n",
    "print(f'distance = {distance} depth = {depth}')\n",
    "\n",
    "position = distance * depth\n",
    "\n",
    "print (f'answer = {position}')"
   ]
  },
  {
   "cell_type": "markdown",
   "id": "65683052",
   "metadata": {},
   "source": [
    "## Part 2\n",
    "view the [Advent of Code 2021 Day 2 challenge Part 2](https://adventofcode.com/2021/day/2#part2) "
   ]
  },
  {
   "cell_type": "code",
   "execution_count": 81,
   "id": "81cdc8b4",
   "metadata": {},
   "outputs": [
    {
     "name": "stdout",
     "output_type": "stream",
     "text": [
      "answer = 2078985210\n"
     ]
    }
   ],
   "source": [
    "# copy the raw data for use in part 2\n",
    "part2=data_raw.copy()\n",
    "\n",
    "# Drop the index\n",
    "part2.reset_index(drop=False, inplace=True)\n",
    "\n",
    "# declare variables to store the distance, depth and aim\n",
    "p2_dist=0\n",
    "p2_depth=0\n",
    "p2_aim=0\n",
    "\n",
    "# itterate through each row of directions\n",
    "for index, row in part2.iterrows():\n",
    "    if (row['direction']=='forward'):\n",
    "        #increase distance\n",
    "        p2_dist += row['distance']\n",
    "        \n",
    "        # check aim of submarine\n",
    "        if p2_aim!= 0:\n",
    "            # not aiming forward so increase/decrease depth by aim\n",
    "            p2_depth = p2_depth + (row['distance'] * p2_aim)\n",
    "    elif (row['direction']=='down'):\n",
    "        # increase aim\n",
    "        p2_aim=p2_aim + row['distance']\n",
    "    elif (row['direction']=='up'):\n",
    "        # deincrease aim\n",
    "        p2_aim=p2_aim - row['distance']\n",
    "        \n",
    "p2_position = p2_dist * p2_depth\n",
    "print (f'answer = {p2_position}')"
   ]
  }
 ],
 "metadata": {
  "kernelspec": {
   "display_name": "Python 3 (ipykernel)",
   "language": "python",
   "name": "python3"
  },
  "language_info": {
   "codemirror_mode": {
    "name": "ipython",
    "version": 3
   },
   "file_extension": ".py",
   "mimetype": "text/x-python",
   "name": "python",
   "nbconvert_exporter": "python",
   "pygments_lexer": "ipython3",
   "version": "3.8.12"
  }
 },
 "nbformat": 4,
 "nbformat_minor": 5
}
