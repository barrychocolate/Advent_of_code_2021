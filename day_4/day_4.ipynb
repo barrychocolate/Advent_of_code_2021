{
 "cells": [
  {
   "cell_type": "markdown",
   "id": "dcc73471",
   "metadata": {},
   "source": [
    "[Back to the index](../index.html)"
   ]
  },
  {
   "cell_type": "markdown",
   "id": "47386d03",
   "metadata": {},
   "source": [
    "# Day 4"
   ]
  },
  {
   "cell_type": "markdown",
   "id": "80816e42",
   "metadata": {},
   "source": [
    "## Giant Squid\n",
    "view the [Advent of Code 2021 Day 4 challenge](https://adventofcode.com/2021/day/4)"
   ]
  },
  {
   "cell_type": "markdown",
   "id": "c3fb9af1",
   "metadata": {},
   "source": [
    "## Setup"
   ]
  },
  {
   "cell_type": "code",
   "execution_count": 1,
   "id": "451d66ae",
   "metadata": {},
   "outputs": [],
   "source": [
    "# Setup - load any packages\n",
    "from copy import deepcopy"
   ]
  },
  {
   "cell_type": "markdown",
   "id": "23bd0026",
   "metadata": {},
   "source": [
    "## Load the data"
   ]
  },
  {
   "cell_type": "code",
   "execution_count": 2,
   "id": "3e0d5bcf",
   "metadata": {},
   "outputs": [],
   "source": [
    "# load the data\n",
    "day4_raw = open('day4_data.txt').read().splitlines()\n",
    "\n",
    "# extract the numbers called from the first item in the list\n",
    "# pop extracts and removes them from the input\n",
    "numbers_called = day4_raw.pop(0).split(',')\n",
    "\n",
    "#extract the next row as it is blank\n",
    "day4_raw.pop(0)\n",
    "\n",
    "def create_bingo_cards(cards):\n",
    "    # card count\n",
    "    count = 1\n",
    "    # dictionary to hold all bingo cards\n",
    "    bingo_cards = {}\n",
    "    #temporary list to hold a single bingo card\n",
    "    bingo_card = []\n",
    "\n",
    "    #for each row in the data\n",
    "    for row in cards:\n",
    "        # check for empty line signalling the start/end of a card\n",
    "        if row =='':\n",
    "            # add the current card to the dictionary\n",
    "            bingo_cards['card_'+str(count)] = bingo_card\n",
    "            # reset the temporary bingo card\n",
    "            bingo_card = []\n",
    "            # increase card count\n",
    "            count = count + 1\n",
    "        else:\n",
    "            # append the row to the current card\n",
    "            bingo_card.append(row.split())\n",
    "    # return the dictionary of cards\n",
    "    return bingo_cards\n",
    "\n",
    "# make the bingo cards\n",
    "bingo_cards = create_bingo_cards(day4_raw)"
   ]
  },
  {
   "cell_type": "markdown",
   "id": "64127bcf",
   "metadata": {},
   "source": [
    "# Part 1"
   ]
  },
  {
   "cell_type": "code",
   "execution_count": 3,
   "id": "ba5e7400",
   "metadata": {},
   "outputs": [
    {
     "name": "stdout",
     "output_type": "stream",
     "text": [
      "answer = 51776\n"
     ]
    }
   ],
   "source": [
    "def call_numbers(bingo_cards, numbers_called, part_one=True):\n",
    "    # create a temp copy of the bingo cards so we can update them\n",
    "    # Using deepcopy as the dictioanry contains other objects\n",
    "    bingo_cards_temp = deepcopy(bingo_cards)\n",
    "    # create a dictioanry to store the winning cards\n",
    "    winners = {}\n",
    "\n",
    "    # loop through the numbers called\n",
    "    for num in numbers_called:\n",
    "        #update each card to mark off the numbers called\n",
    "        for card, rows in bingo_cards_temp.items():\n",
    "            #only update cards that haven't yet won\n",
    "            if card not in winners:\n",
    "                # itterate through each row in the card\n",
    "                for idx, row in enumerate(rows):\n",
    "                    # check if number called is in the row\n",
    "                    if num in row:\n",
    "                        #number is in the row so repalce with x\n",
    "                        row[row.index(num)] = 'x'\n",
    "                        # update the row in the card\n",
    "                        bingo_cards_temp[card][idx] = row\n",
    "\n",
    "                        # Check if the card is a winner\n",
    "                        if check_winner(bingo_cards_temp[card]):         \n",
    "                            if part_one: \n",
    "                                #The first card has won, calculate the answer and return it\n",
    "                                return calculate(int(num), bingo_cards_temp[card])\n",
    "                            \n",
    "                            # Add the winning card to the winners dictionary\n",
    "                            winners[card] = calculate(int(num),bingo_cards_temp[card])\n",
    "                            \n",
    "    # Return the result of the calculation for the last card in the winners dictionary\n",
    "    return winners[list(winners.keys())[-1]]\n",
    "\n",
    "def check_winner(card):\n",
    "    # copy the card using depcopy so we can alter it to make checking easier\n",
    "    card_temp=deepcopy(card)\n",
    "    # transpose the columns into rows\n",
    "    columns=list(map(list, zip(*card)))\n",
    "    # append the transposed columns as rows\n",
    "    for sublist in columns:\n",
    "        card_temp.append(sublist)\n",
    "    # check each row\n",
    "    for row in card_temp:\n",
    "        if gotaline(row):\n",
    "            # winning line found\n",
    "            return True\n",
    "        \n",
    "def gotaline(row):\n",
    "    # is the number of x's the same as the number of items\n",
    "    # Return a boolean list of number =='x'\n",
    "    # All function returns True if all items are True\n",
    "    return all([num=='x' for num in row])\n",
    "\n",
    "def calculate(num, card):\n",
    "    # sum the numbers that are not X\n",
    "    unmarked_sum = sum([int(x) for y in card for x in y if x != 'x'])\n",
    "    # multiply the sum by the last number called and return it\n",
    "    return unmarked_sum*num\n",
    "\n",
    "# calculate part 1 answer\n",
    "p1_answer = call_numbers(bingo_cards, numbers_called)\n",
    "print(f'answer = {p1_answer}')"
   ]
  },
  {
   "cell_type": "markdown",
   "id": "65683052",
   "metadata": {},
   "source": [
    "## Part 2\n",
    "view the [Advent of Code 2021 Day 4 challenge Part 2](https://adventofcode.com/2021/day/4#part2) "
   ]
  },
  {
   "cell_type": "code",
   "execution_count": 4,
   "id": "81cdc8b4",
   "metadata": {},
   "outputs": [
    {
     "name": "stdout",
     "output_type": "stream",
     "text": [
      "answer = 16830\n"
     ]
    }
   ],
   "source": [
    "# calculate part 2 answer\n",
    "p2_answer = call_numbers(bingo_cards, numbers_called, False)\n",
    "print(f'answer = {p2_answer}')"
   ]
  },
  {
   "cell_type": "code",
   "execution_count": null,
   "id": "8f890736",
   "metadata": {},
   "outputs": [],
   "source": []
  }
 ],
 "metadata": {
  "kernelspec": {
   "display_name": "Python 3 (ipykernel)",
   "language": "python",
   "name": "python3"
  },
  "language_info": {
   "codemirror_mode": {
    "name": "ipython",
    "version": 3
   },
   "file_extension": ".py",
   "mimetype": "text/x-python",
   "name": "python",
   "nbconvert_exporter": "python",
   "pygments_lexer": "ipython3",
   "version": "3.8.12"
  }
 },
 "nbformat": 4,
 "nbformat_minor": 5
}
