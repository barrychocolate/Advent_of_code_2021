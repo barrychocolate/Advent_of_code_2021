{
 "cells": [
  {
   "cell_type": "markdown",
   "id": "dcc73471",
   "metadata": {},
   "source": [
    "[Back to the index](../index.html)"
   ]
  },
  {
   "cell_type": "markdown",
   "id": "47386d03",
   "metadata": {},
   "source": [
    "# Day 7"
   ]
  },
  {
   "cell_type": "markdown",
   "id": "80816e42",
   "metadata": {},
   "source": [
    "## The Treachery of Whales\n",
    "view the [Advent of Code 2021 Day 7 challenge](https://adventofcode.com/2021/day/7)"
   ]
  },
  {
   "cell_type": "markdown",
   "id": "c3fb9af1",
   "metadata": {},
   "source": [
    "## Setup"
   ]
  },
  {
   "cell_type": "code",
   "execution_count": 78,
   "id": "451d66ae",
   "metadata": {},
   "outputs": [],
   "source": [
    "# Setup - load any packages\n",
    "import numpy as np"
   ]
  },
  {
   "cell_type": "markdown",
   "id": "23bd0026",
   "metadata": {},
   "source": [
    "## Load the data"
   ]
  },
  {
   "cell_type": "code",
   "execution_count": 79,
   "id": "3e0d5bcf",
   "metadata": {},
   "outputs": [],
   "source": [
    "def LoadData(filename):\n",
    "    return np.loadtxt(filename, dtype='int', delimiter=',')\n",
    "\n",
    "day7_raw=LoadData('day7_data.txt')"
   ]
  },
  {
   "cell_type": "markdown",
   "id": "64127bcf",
   "metadata": {},
   "source": [
    "# Part 1"
   ]
  },
  {
   "cell_type": "code",
   "execution_count": 80,
   "id": "ba5e7400",
   "metadata": {},
   "outputs": [],
   "source": [
    "def CalculatePart2Fuel(distance):\n",
    "    return int((distance*(distance+1))/2)\n",
    "\n",
    "def CalculateFuel(positions, new_location, Part1):\n",
    "    # variable to store the fuel needed\n",
    "    fuel=0\n",
    "    \n",
    "    #loop through each position and caluclate the cost to move it to the new location\n",
    "    for location in positions:\n",
    "        # calculate distance between current and new location\n",
    "        distance = abs(location - new_location)\n",
    "        if Part1==True:\n",
    "            fuel=fuel + distance\n",
    "        else:\n",
    "            # Calculate increased fuel cost\n",
    "            fuel=fuel + CalculatePart2Fuel(distance)\n",
    "    # return the fuel calculation\n",
    "    return fuel\n",
    "\n",
    "def CalculateBestPosition(positions, Part1=True):\n",
    "    # Set default best fuel value\n",
    "    best_fuel=999999999\n",
    "    \n",
    "    #loop through each possible value between min and max position\n",
    "    for i in range(positions.min(), positions.max()+1):\n",
    "        temp_fuel=CalculateFuel(positions, i, Part1)\n",
    "        if temp_fuel< best_fuel:\n",
    "            best_fuel=temp_fuel\n",
    "    return best_fuel"
   ]
  },
  {
   "cell_type": "code",
   "execution_count": 81,
   "id": "a2ae45fc",
   "metadata": {},
   "outputs": [
    {
     "name": "stdout",
     "output_type": "stream",
     "text": [
      "answer = 356179\n"
     ]
    }
   ],
   "source": [
    "p1_answer=CalculateBestPosition(day7_raw)\n",
    "print(f'answer = {p1_answer}') "
   ]
  },
  {
   "cell_type": "markdown",
   "id": "65683052",
   "metadata": {},
   "source": [
    "## Part 2\n",
    "view the [Advent of Code 2021 Day 6 challenge Part 2](https://adventofcode.com/2021/day/6#part2) "
   ]
  },
  {
   "cell_type": "code",
   "execution_count": 82,
   "id": "81cdc8b4",
   "metadata": {},
   "outputs": [
    {
     "name": "stdout",
     "output_type": "stream",
     "text": [
      "answer = 99788435\n"
     ]
    }
   ],
   "source": [
    "p2_answer=CalculateBestPosition(day7_raw, False)\n",
    "print(f'answer = {p2_answer}') "
   ]
  }
 ],
 "metadata": {
  "kernelspec": {
   "display_name": "Python 3 (ipykernel)",
   "language": "python",
   "name": "python3"
  },
  "language_info": {
   "codemirror_mode": {
    "name": "ipython",
    "version": 3
   },
   "file_extension": ".py",
   "mimetype": "text/x-python",
   "name": "python",
   "nbconvert_exporter": "python",
   "pygments_lexer": "ipython3",
   "version": "3.8.12"
  }
 },
 "nbformat": 4,
 "nbformat_minor": 5
}
