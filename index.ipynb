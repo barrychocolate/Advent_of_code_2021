{
 "cells": [
  {
   "attachments": {},
   "cell_type": "markdown",
   "id": "98f70b11",
   "metadata": {},
   "source": [
    "<div>\n",
    "<img src=\"christmas_circles.png\" alt=\"Drawing\" style=\"width: 800px;\"/>\n",
    "</div>"
   ]
  },
  {
   "cell_type": "markdown",
   "id": "b31aa172",
   "metadata": {},
   "source": [
    "# Advent of Code 2021\n",
    "Welcome to my Advent of Code 2021.  I will be attempting to complete this year's challenges using Python.  The links below will be updated as and when i complete the challenges."
   ]
  },
  {
   "cell_type": "markdown",
   "id": "18070e8c",
   "metadata": {},
   "source": [
    "* [Day_1](./day_1/day_1.html)\n",
    "* [Day_2](./day_2/day_2.html)\n",
    "* [Day_3](./day_3/day_3.html)\n",
    "* [Day_4](./day_4/day_4.html)\n",
    "* [Day_5](./day_5/day_5.html)\n",
    "* [Day_6](./day_6/day_6.html)\n",
    "* [Day_7](./day_7/day_7.html)\n",
    "* [Day_8](./day_8/day_8.html)\n",
    "* [Day_9](./day_9/day_9.html)\n",
    "* [Day_10](./day_10/day_10.html)\n",
    "* [Day_11](./day_11/day_11.html)\n",
    "* [Day_12](./day_12/day_12.html)\n",
    "* [Day_13](./day_13/day_13.html)\n",
    "* [Day_14](./day_14/day_14.html)\n",
    "* [Day_15](./day_15/day_15.html)\n",
    "* [Day_16](./day_16/day_16.html)\n",
    "* [Day_17](./day_17/day_17.html)\n",
    "* [Day_18](./day_18/day_18.html)\n",
    "* [Day_19](./day_19/day_19.html)\n",
    "* [Day_20](./day_20/day_20.html)\n",
    "* [Day_21](./day_21/day_21.html)\n",
    "* [Day_22](./day_22/day_22.html)\n",
    "* [Day_23](./day_23/day_23.html)\n",
    "* [Day_24](./day_24/day_24.html)\n",
    "* [Day_25](./day_25/day_25.html)\n",
    "* [Day_26](./day_26/day_26.html)\n",
    "* [Day_27](./day_27/day_27.html)\n",
    "* [Day_28](./day_28/day_28.html)\n",
    "* [Day_29](./day_29/day_29.html)\n",
    "* [Day_30](./day_30/day_30.html)\n",
    "* [Day_31](./day_31/day_31.html)"
   ]
  }
 ],
 "metadata": {
  "kernelspec": {
   "display_name": "Python 3 (ipykernel)",
   "language": "python",
   "name": "python3"
  },
  "language_info": {
   "codemirror_mode": {
    "name": "ipython",
    "version": 3
   },
   "file_extension": ".py",
   "mimetype": "text/x-python",
   "name": "python",
   "nbconvert_exporter": "python",
   "pygments_lexer": "ipython3",
   "version": "3.8.12"
  }
 },
 "nbformat": 4,
 "nbformat_minor": 5
}
