{
 "cells": [
  {
   "cell_type": "markdown",
   "id": "dcc73471",
   "metadata": {},
   "source": [
    "[Back to the index](../index.html)"
   ]
  },
  {
   "cell_type": "markdown",
   "id": "47386d03",
   "metadata": {},
   "source": [
    "# Day 3"
   ]
  },
  {
   "cell_type": "markdown",
   "id": "80816e42",
   "metadata": {},
   "source": [
    "## Binary Diagnostic\n",
    "\n",
    "view the [Advent of Code 2021 Day 3 challenge](https://adventofcode.com/2021/day/3)"
   ]
  },
  {
   "cell_type": "markdown",
   "id": "c3fb9af1",
   "metadata": {},
   "source": [
    "## Setup"
   ]
  },
  {
   "cell_type": "code",
   "execution_count": 2,
   "id": "451d66ae",
   "metadata": {},
   "outputs": [],
   "source": [
    "# Setup - load any packages\n",
    "import pandas as pd"
   ]
  },
  {
   "cell_type": "markdown",
   "id": "23bd0026",
   "metadata": {},
   "source": [
    "## Load the data"
   ]
  },
  {
   "cell_type": "code",
   "execution_count": 56,
   "id": "3e0d5bcf",
   "metadata": {},
   "outputs": [
    {
     "name": "stdout",
     "output_type": "stream",
     "text": [
      "a    int64\n",
      "b    int64\n",
      "c    int64\n",
      "d    int64\n",
      "e    int64\n",
      "f    int64\n",
      "g    int64\n",
      "h    int64\n",
      "i    int64\n",
      "j    int64\n",
      "k    int64\n",
      "l    int64\n",
      "dtype: object\n"
     ]
    },
    {
     "data": {
      "text/html": [
       "<div>\n",
       "<style scoped>\n",
       "    .dataframe tbody tr th:only-of-type {\n",
       "        vertical-align: middle;\n",
       "    }\n",
       "\n",
       "    .dataframe tbody tr th {\n",
       "        vertical-align: top;\n",
       "    }\n",
       "\n",
       "    .dataframe thead th {\n",
       "        text-align: right;\n",
       "    }\n",
       "</style>\n",
       "<table border=\"1\" class=\"dataframe\">\n",
       "  <thead>\n",
       "    <tr style=\"text-align: right;\">\n",
       "      <th></th>\n",
       "      <th>a</th>\n",
       "      <th>b</th>\n",
       "      <th>c</th>\n",
       "      <th>d</th>\n",
       "      <th>e</th>\n",
       "      <th>f</th>\n",
       "      <th>g</th>\n",
       "      <th>h</th>\n",
       "      <th>i</th>\n",
       "      <th>j</th>\n",
       "      <th>k</th>\n",
       "      <th>l</th>\n",
       "    </tr>\n",
       "  </thead>\n",
       "  <tbody>\n",
       "    <tr>\n",
       "      <th>0</th>\n",
       "      <td>1</td>\n",
       "      <td>1</td>\n",
       "      <td>1</td>\n",
       "      <td>0</td>\n",
       "      <td>1</td>\n",
       "      <td>0</td>\n",
       "      <td>1</td>\n",
       "      <td>1</td>\n",
       "      <td>1</td>\n",
       "      <td>0</td>\n",
       "      <td>1</td>\n",
       "      <td>1</td>\n",
       "    </tr>\n",
       "    <tr>\n",
       "      <th>1</th>\n",
       "      <td>0</td>\n",
       "      <td>0</td>\n",
       "      <td>1</td>\n",
       "      <td>0</td>\n",
       "      <td>1</td>\n",
       "      <td>1</td>\n",
       "      <td>1</td>\n",
       "      <td>1</td>\n",
       "      <td>0</td>\n",
       "      <td>0</td>\n",
       "      <td>1</td>\n",
       "      <td>0</td>\n",
       "    </tr>\n",
       "    <tr>\n",
       "      <th>2</th>\n",
       "      <td>0</td>\n",
       "      <td>0</td>\n",
       "      <td>0</td>\n",
       "      <td>1</td>\n",
       "      <td>1</td>\n",
       "      <td>0</td>\n",
       "      <td>1</td>\n",
       "      <td>1</td>\n",
       "      <td>1</td>\n",
       "      <td>1</td>\n",
       "      <td>0</td>\n",
       "      <td>0</td>\n",
       "    </tr>\n",
       "    <tr>\n",
       "      <th>3</th>\n",
       "      <td>1</td>\n",
       "      <td>1</td>\n",
       "      <td>0</td>\n",
       "      <td>1</td>\n",
       "      <td>0</td>\n",
       "      <td>1</td>\n",
       "      <td>1</td>\n",
       "      <td>1</td>\n",
       "      <td>0</td>\n",
       "      <td>0</td>\n",
       "      <td>0</td>\n",
       "      <td>1</td>\n",
       "    </tr>\n",
       "    <tr>\n",
       "      <th>4</th>\n",
       "      <td>1</td>\n",
       "      <td>0</td>\n",
       "      <td>1</td>\n",
       "      <td>1</td>\n",
       "      <td>1</td>\n",
       "      <td>0</td>\n",
       "      <td>0</td>\n",
       "      <td>1</td>\n",
       "      <td>1</td>\n",
       "      <td>1</td>\n",
       "      <td>1</td>\n",
       "      <td>1</td>\n",
       "    </tr>\n",
       "  </tbody>\n",
       "</table>\n",
       "</div>"
      ],
      "text/plain": [
       "   a  b  c  d  e  f  g  h  i  j  k  l\n",
       "0  1  1  1  0  1  0  1  1  1  0  1  1\n",
       "1  0  0  1  0  1  1  1  1  0  0  1  0\n",
       "2  0  0  0  1  1  0  1  1  1  1  0  0\n",
       "3  1  1  0  1  0  1  1  1  0  0  0  1\n",
       "4  1  0  1  1  1  0  0  1  1  1  1  1"
      ]
     },
     "execution_count": 56,
     "metadata": {},
     "output_type": "execute_result"
    }
   ],
   "source": [
    "# load data into Pandas DataFrame using fixed width\n",
    "data_raw = pd.read_fwf('day3_data.txt', names=['a','b','c','d','e','f','g', 'h', 'i', 'j', 'k', 'l'], index_col=False, header=None, widths=[1,1,1,1,1,1,1,1,1,1,1,1])\n",
    "\n",
    "# Check the data types of the columns\n",
    "print(data_raw.dtypes)\n",
    "\n",
    "# View the first few rows of the data\n",
    "data_raw.head()"
   ]
  },
  {
   "cell_type": "markdown",
   "id": "64127bcf",
   "metadata": {},
   "source": [
    "# Part 1"
   ]
  },
  {
   "cell_type": "code",
   "execution_count": 7,
   "id": "ba5e7400",
   "metadata": {},
   "outputs": [
    {
     "name": "stdout",
     "output_type": "stream",
     "text": [
      "gamma = 011101001101 (1869)\n",
      "epsilon = 100010110010 (2226)\n",
      "answer = 4160394\n"
     ]
    }
   ],
   "source": [
    "# copy the raw data\n",
    "part1=data_raw.copy()\n",
    "\n",
    "# declare variables as string\n",
    "gamma =\"\"\n",
    "epsilon =\"\"\n",
    "\n",
    "# sum the columns\n",
    "p1_totals = part1.sum()\n",
    "\n",
    "#loop through each column sum\n",
    "for column in p1_totals: \n",
    "    # if column sum is more than half the number of rows then there are more ones\n",
    "    if column >= (part1.shape[0]/2):\n",
    "        #more ones\n",
    "        gamma = gamma + \"1\"\n",
    "        epsilon = epsilon + \"0\"\n",
    "    else:\n",
    "        #more zeros\n",
    "        gamma = gamma + \"0\"\n",
    "        epsilon = epsilon + \"1\"\n",
    "\n",
    "#view binary values\n",
    "print(f'gamma = {gamma} ({int(gamma, 2)})')\n",
    "print(f'epsilon = {epsilon} ({int(epsilon, 2)})')\n",
    "\n",
    "# convert to integers and multiply\n",
    "p1_answer = int(gamma, 2) * int(epsilon, 2)\n",
    "print(f'answer = {p1_answer}')"
   ]
  },
  {
   "cell_type": "code",
   "execution_count": 71,
   "id": "0e4420db",
   "metadata": {},
   "outputs": [
    {
     "name": "stdout",
     "output_type": "stream",
     "text": [
      "gamma = 011101001101 (1869)\n",
      "epsilon = 100010110010 (2226)\n",
      "answer = 4160394\n"
     ]
    }
   ],
   "source": [
    "#find most common binary value in a column\n",
    "def mostcommon(pd_col):\n",
    "    if sum(pd_col)>=(pd_col.shape[0]/2):\n",
    "        return \"1\"\n",
    "    else:\n",
    "        return \"0\"\n",
    "    \n",
    "# copy the raw data\n",
    "part1=data_raw.copy()\n",
    "\n",
    "# declare variables as string\n",
    "gamma =\"\"\n",
    "epsilon =\"\"\n",
    "\n",
    "for i in range(part1.shape[1]): \n",
    "    # if column sum is more than half the number of rows then there are more ones\n",
    "    if mostcommon(part1.iloc[:,i])==\"1\":\n",
    "        #more ones\n",
    "        gamma = gamma + \"1\"\n",
    "        epsilon = epsilon + \"0\"    \n",
    "    else:\n",
    "        #more zeros\n",
    "        gamma = gamma + \"0\"\n",
    "        epsilon = epsilon + \"1\"\n",
    "        \n",
    "#view binary values\n",
    "print(f'gamma = {gamma} ({int(gamma, 2)})')\n",
    "print(f'epsilon = {epsilon} ({int(epsilon, 2)})')\n",
    "\n",
    "# convert to integers and multiply\n",
    "p1_answer = int(gamma, 2) * int(epsilon, 2)\n",
    "print(f'answer = {p1_answer}')\n"
   ]
  },
  {
   "cell_type": "markdown",
   "id": "65683052",
   "metadata": {},
   "source": [
    "## Part 2\n",
    "view the [Advent of Code 2021 Day 3 challenge Part 2](https://adventofcode.com/2021/day/3#part2) "
   ]
  },
  {
   "cell_type": "code",
   "execution_count": 79,
   "id": "27e4903b",
   "metadata": {},
   "outputs": [
    {
     "name": "stdout",
     "output_type": "stream",
     "text": [
      "oxygen = 011010110111 (1719)\n",
      "CO2 = 100101100000 (2400)\n",
      "answer = 4125600\n"
     ]
    }
   ],
   "source": [
    "# copy the raw data\n",
    "part2=data_raw.copy()\n",
    "\n",
    "def findReading(sensordata, leastcommon=False):\n",
    "    #copy the data as we will be filtering it\n",
    "    sensordata_temp=sensordata.copy()\n",
    "    \n",
    "    #loop through each binary digit\n",
    "    for i in range(sensordata_temp.shape[1]): \n",
    "        # get most common value in column\n",
    "        most=int(mostcommon(sensordata_temp.iloc[:,i]))\n",
    "        \n",
    "        if leastcommon==True:\n",
    "            #flip the most common value from 0->1 or 1->0\n",
    "            most = 1 - most\n",
    "        \n",
    "        #subset the data by the most common value in the column\n",
    "        sensordata_temp=sensordata_temp[sensordata_temp.iloc[:, i]==most]\n",
    "        \n",
    "        #if only one value then return it and exit\n",
    "        if sensordata_temp.shape[0]==1:\n",
    "            #Concatenate the columns together to get the binary value\n",
    "            sensordata_temp['reading'] = sensordata_temp[sensordata_temp.columns[:]].apply(\n",
    "            lambda x: ''.join(x.dropna().astype(str)),\n",
    "            axis=1)\n",
    "            return sensordata_temp.iloc[0,12]\n",
    "        \n",
    "oxygen = findReading(part2, False)   \n",
    "CO2=findReading(part2, True)\n",
    "\n",
    "#view binary values\n",
    "print(f'oxygen = {oxygen} ({int(oxygen, 2)})')\n",
    "print(f'CO2 = {CO2} ({int(CO2, 2)})')\n",
    "\n",
    "# convert to integers and multiply\n",
    "p2_answer = int(oxygen, 2) * int(CO2, 2)\n",
    "print(f'answer = {p2_answer}')"
   ]
  },
  {
   "cell_type": "code",
   "execution_count": null,
   "id": "e66463ec",
   "metadata": {},
   "outputs": [],
   "source": []
  }
 ],
 "metadata": {
  "kernelspec": {
   "display_name": "Python 3 (ipykernel)",
   "language": "python",
   "name": "python3"
  },
  "language_info": {
   "codemirror_mode": {
    "name": "ipython",
    "version": 3
   },
   "file_extension": ".py",
   "mimetype": "text/x-python",
   "name": "python",
   "nbconvert_exporter": "python",
   "pygments_lexer": "ipython3",
   "version": "3.8.12"
  }
 },
 "nbformat": 4,
 "nbformat_minor": 5
}
