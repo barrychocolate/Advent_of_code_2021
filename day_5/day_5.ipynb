{
 "cells": [
  {
   "cell_type": "markdown",
   "id": "dcc73471",
   "metadata": {},
   "source": [
    "[Back to the index](../index.html)"
   ]
  },
  {
   "cell_type": "markdown",
   "id": "47386d03",
   "metadata": {},
   "source": [
    "# Day 5"
   ]
  },
  {
   "cell_type": "markdown",
   "id": "80816e42",
   "metadata": {},
   "source": [
    "## Hydrothermal Venture\n",
    "view the [Advent of Code 2021 Day 5 challenge](https://adventofcode.com/2021/day/5)"
   ]
  },
  {
   "cell_type": "markdown",
   "id": "c3fb9af1",
   "metadata": {},
   "source": [
    "## Setup"
   ]
  },
  {
   "cell_type": "code",
   "execution_count": 1,
   "id": "451d66ae",
   "metadata": {},
   "outputs": [],
   "source": [
    "# Setup - load any packages\n",
    "import pandas as pd\n",
    "import numpy as np"
   ]
  },
  {
   "cell_type": "markdown",
   "id": "23bd0026",
   "metadata": {},
   "source": [
    "## Load the data"
   ]
  },
  {
   "cell_type": "code",
   "execution_count": 2,
   "id": "3e0d5bcf",
   "metadata": {},
   "outputs": [
    {
     "name": "stdout",
     "output_type": "stream",
     "text": [
      "min = 10 max = 989\n"
     ]
    }
   ],
   "source": [
    "#read the data into a pandas dataframe\n",
    "def LoadData(filename):\n",
    "    return pd.read_csv(filename,\n",
    "        #seperators are \" -> \" or \",\"\n",
    "        sep=\" -> |,\",\n",
    "        names=['x1', 'y1', 'x2', 'y2'], \n",
    "        header=None, \n",
    "        engine=\"python\")\n",
    "\n",
    "def CreateGrid(x,y):\n",
    "    return np.zeros((x,y), dtype=int)\n",
    "\n",
    "# load the data\n",
    "day5_lines=LoadData(\"day5_data.txt\")\n",
    "\n",
    "# get the minimum and maximum values\n",
    "print(f'min = {day5_lines.min().min()} max = {day5_lines.max().max()}')"
   ]
  },
  {
   "cell_type": "markdown",
   "id": "64127bcf",
   "metadata": {},
   "source": [
    "# Part 1"
   ]
  },
  {
   "cell_type": "code",
   "execution_count": 3,
   "id": "ba5e7400",
   "metadata": {},
   "outputs": [],
   "source": [
    "def MapVents (data, grid, part1=True):\n",
    "    #loop through each row in the \n",
    "    for index, row in data.iterrows():\n",
    "        if HoriOrVert(row):\n",
    "            #process \n",
    "            grid=PlotLine(row, grid)\n",
    "        else:\n",
    "            #process all lines\n",
    "            if part1==False:\n",
    "                grid=PlotDiagonalLine(row, grid)\n",
    "            \n",
    "    #Calculate the total number of overlaping cells\n",
    "    count=CountOverlaps(grid)\n",
    "    #return the result\n",
    "    return count\n",
    "\n",
    "def HoriOrVert(row):\n",
    "    #Return true if the line is horizontal or vertical i.e X1/2 or Y1/2 values are the same\n",
    "    if row[\"x1\"]==row[\"x2\"] or row[\"y1\"]==row[\"y2\"] :\n",
    "        return True\n",
    "    else:\n",
    "        return False\n",
    "    \n",
    "def CountOverlaps(grid):\n",
    "    # Count the number of values greater than 1\n",
    "    return sum(sum(grid>1))\n",
    "\n",
    "def PlotLine(row, grid):\n",
    "    # Add the line to the grid\n",
    "    for i in range(min(row[\"x1\"], row[\"x2\"]),max(row[\"x1\"],row[\"x2\"])+1):\n",
    "        for c in range(min(row[\"y1\"], row[\"y2\"]),max(row[\"y1\"],row[\"y2\"])+1):\n",
    "            grid[i][c]=grid[i][c]+1\n",
    "    # Return the updated grid\n",
    "    return grid\n",
    "\n",
    "def PlotDiagonalLine(row, grid):\n",
    "    # determine the direction\n",
    "    if (((row[\"x1\"] < row[\"x2\"]) and (row[\"y1\"] < row[\"y2\"]) or (row[\"x1\"] > row[\"x2\"]) and (row[\"y1\"] > row[\"y2\"]))):\n",
    "        #diagonal up\n",
    "        #Set starting x and y values\n",
    "        x=min(row[\"x1\"], row[\"x2\"])\n",
    "        y=min(row[\"y1\"], row[\"y2\"])\n",
    "        for i in range((max(row[\"x1\"],row[\"x2\"])-min(row[\"x1\"], row[\"x2\"]))+1):\n",
    "            # increase the cell value by 1\n",
    "            grid[x][y]=grid[x][y]+1\n",
    "            # increase x and y coordinates\n",
    "            x = x + 1\n",
    "            y = y + 1\n",
    "    else:\n",
    "        # diagonal down\n",
    "        # Set starting x and y values\n",
    "        x=min(row[\"x1\"], row[\"x2\"])\n",
    "        # use maximum for diagonal downward lines\n",
    "        y=max(row[\"y1\"], row[\"y2\"])\n",
    "        \n",
    "        for i in range((max(row[\"x1\"],row[\"x2\"])-min(row[\"x1\"], row[\"x2\"]))+1):\n",
    "            # increase the cell value by 1\n",
    "            grid[x][y]=grid[x][y]+1\n",
    "            # increase x and decrease y coordinates\n",
    "            x = x + 1\n",
    "            y = y - 1\n",
    "    # Return the updated grid\n",
    "    return grid"
   ]
  },
  {
   "cell_type": "code",
   "execution_count": 4,
   "id": "6eacb090",
   "metadata": {},
   "outputs": [
    {
     "name": "stdout",
     "output_type": "stream",
     "text": [
      "min = 10 max = 989\n",
      "answer = 5698\n"
     ]
    }
   ],
   "source": [
    "# load the data\n",
    "day5_lines=LoadData(\"day5_data.txt\")\n",
    "\n",
    "# get the minimum and maximum values\n",
    "print(f'min = {day5_lines.min().min()} max = {day5_lines.max().max()}')\n",
    "\n",
    "# create a 1000x1000 numpy array to store the lines\n",
    "grid=CreateGrid(1000,1000)\n",
    "\n",
    "p1_answer=MapVents(day5_lines, grid, True)\n",
    "\n",
    "print(f'answer = {p1_answer}')"
   ]
  },
  {
   "cell_type": "markdown",
   "id": "65683052",
   "metadata": {},
   "source": [
    "## Part 2\n",
    "view the [Advent of Code 2021 Day 5 challenge Part 2](https://adventofcode.com/2021/day/5#part2) "
   ]
  },
  {
   "cell_type": "code",
   "execution_count": 28,
   "id": "81cdc8b4",
   "metadata": {},
   "outputs": [
    {
     "name": "stdout",
     "output_type": "stream",
     "text": [
      "min = 10 max = 989\n",
      "answer = 15463\n"
     ]
    }
   ],
   "source": [
    "# load the data\n",
    "day5_lines=LoadData(\"day5_data.txt\")\n",
    "\n",
    "# get the minimum and maximum values\n",
    "print(f'min = {day5_lines.min().min()} max = {day5_lines.max().max()}')\n",
    "\n",
    "# create a 1000x1000 numpy array to store the lines\n",
    "grid=CreateGrid(1000,1000)\n",
    "\n",
    "p2_answer=MapVents(day5_lines, grid, False)\n",
    "\n",
    "print(f'answer = {p2_answer}')"
   ]
  },
  {
   "cell_type": "code",
   "execution_count": null,
   "id": "6a28b166",
   "metadata": {},
   "outputs": [],
   "source": []
  }
 ],
 "metadata": {
  "kernelspec": {
   "display_name": "Python 3 (ipykernel)",
   "language": "python",
   "name": "python3"
  },
  "language_info": {
   "codemirror_mode": {
    "name": "ipython",
    "version": 3
   },
   "file_extension": ".py",
   "mimetype": "text/x-python",
   "name": "python",
   "nbconvert_exporter": "python",
   "pygments_lexer": "ipython3",
   "version": "3.8.12"
  }
 },
 "nbformat": 4,
 "nbformat_minor": 5
}
