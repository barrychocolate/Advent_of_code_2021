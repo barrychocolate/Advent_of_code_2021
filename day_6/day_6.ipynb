{
 "cells": [
  {
   "cell_type": "markdown",
   "id": "dcc73471",
   "metadata": {},
   "source": [
    "[Back to the index](../index.html)"
   ]
  },
  {
   "cell_type": "markdown",
   "id": "47386d03",
   "metadata": {},
   "source": [
    "# Day 6"
   ]
  },
  {
   "cell_type": "markdown",
   "id": "80816e42",
   "metadata": {},
   "source": [
    "## Lanternfish\n",
    "view the [Advent of Code 2021 Day 6 challenge](https://adventofcode.com/2021/day/6)"
   ]
  },
  {
   "cell_type": "markdown",
   "id": "c3fb9af1",
   "metadata": {},
   "source": [
    "## Setup"
   ]
  },
  {
   "cell_type": "code",
   "execution_count": 72,
   "id": "451d66ae",
   "metadata": {},
   "outputs": [],
   "source": [
    "# Setup - load any packages\n",
    "import numpy as np\n",
    "from collections import Counter"
   ]
  },
  {
   "cell_type": "markdown",
   "id": "23bd0026",
   "metadata": {},
   "source": [
    "## Load the data"
   ]
  },
  {
   "cell_type": "code",
   "execution_count": 73,
   "id": "3e0d5bcf",
   "metadata": {},
   "outputs": [],
   "source": [
    "def LoadData(filename):\n",
    "    return np.loadtxt(filename, dtype='int', delimiter=',')"
   ]
  },
  {
   "cell_type": "markdown",
   "id": "64127bcf",
   "metadata": {},
   "source": [
    "# Part 1"
   ]
  },
  {
   "cell_type": "code",
   "execution_count": 74,
   "id": "ba5e7400",
   "metadata": {},
   "outputs": [],
   "source": [
    "def GenerateLanternFish(fish, days):\n",
    "    # fish = numpy array of the starting fish\n",
    "    # days = int of days to run the model for\n",
    "    \n",
    "    for day in range(days):\n",
    "        #for each day in days\n",
    "\n",
    "        # decrease fish age by 1\n",
    "        fish=fish-1\n",
    "        \n",
    "        # calculate how many new fish need to be created (age < 0)\n",
    "        new_fish_count=(fish < 0).sum()\n",
    "        \n",
    "        # reset any fish that have just made new fish to 6\n",
    "        fish=np.where(fish <0 , 6, fish)\n",
    "        \n",
    "        # add the new fish with a starting value of 8\n",
    "        if new_fish_count>0:\n",
    "            # create an array of new fish with age 8\n",
    "            new_fish=np.full(new_fish_count, 8)\n",
    "            fish=np.append(fish, new_fish)\n",
    "            \n",
    "    # return the number of fish    \n",
    "    return fish.size\n",
    "   "
   ]
  },
  {
   "cell_type": "code",
   "execution_count": 75,
   "id": "0ae0ab30",
   "metadata": {},
   "outputs": [
    {
     "name": "stdout",
     "output_type": "stream",
     "text": [
      "answer = 387413\n"
     ]
    }
   ],
   "source": [
    "day6_raw=LoadData('day6_data.txt')\n",
    "p1_answer=GenerateLanternFish(day6_raw, 80)\n",
    "print(f'answer = {p1_answer}') "
   ]
  },
  {
   "cell_type": "markdown",
   "id": "65683052",
   "metadata": {},
   "source": [
    "## Part 2\n",
    "view the [Advent of Code 2021 Day 6 challenge Part 2](https://adventofcode.com/2021/day/6#part2) \n",
    "\n",
    "Alternative approach for part 2 as part 1s brute force is too resource intensive for 256 days. (Should have done it this way first)"
   ]
  },
  {
   "cell_type": "code",
   "execution_count": 76,
   "id": "4c1df378",
   "metadata": {},
   "outputs": [],
   "source": [
    "def GenerateLanternFish(fish, days):\n",
    "    # add the fish to a counter \n",
    "    count = Counter(fish)\n",
    "    \n",
    "    for day in range(days):\n",
    "        # loop through each day\n",
    "        # store fish on zero as these become 6 and also generate new fish with count of 8\n",
    "        mothers = count[0]\n",
    "        \n",
    "        # now move each count down 1 to age the fish\n",
    "        count[0] = count[1]\n",
    "        count[1] = count[2]\n",
    "        count[2] = count[3]\n",
    "        count[3] = count[4]\n",
    "        count[4] = count[5]\n",
    "        count[5] = count[6]\n",
    "        count[6] = count[7]\n",
    "        \n",
    "        # Add on the fish that reset becuase they had fish\n",
    "        count[6] = count[6] + mothers\n",
    "        count[7] = count[8]\n",
    "        \n",
    "        # Add the newly born fish\n",
    "        count[8] = mothers\n",
    "\n",
    "    # return the sum of all fish\n",
    "    return sum(count.values())"
   ]
  },
  {
   "cell_type": "code",
   "execution_count": 77,
   "id": "81cdc8b4",
   "metadata": {},
   "outputs": [
    {
     "name": "stdout",
     "output_type": "stream",
     "text": [
      "answer = 1738377086345\n"
     ]
    }
   ],
   "source": [
    "day6_raw=LoadData('day6_data.txt')\n",
    "p2_answer=GenerateLanternFish(day6_raw, 256)\n",
    "print(f'answer = {p2_answer}') "
   ]
  },
  {
   "cell_type": "code",
   "execution_count": null,
   "id": "497ed595",
   "metadata": {},
   "outputs": [],
   "source": []
  }
 ],
 "metadata": {
  "kernelspec": {
   "display_name": "Python 3 (ipykernel)",
   "language": "python",
   "name": "python3"
  },
  "language_info": {
   "codemirror_mode": {
    "name": "ipython",
    "version": 3
   },
   "file_extension": ".py",
   "mimetype": "text/x-python",
   "name": "python",
   "nbconvert_exporter": "python",
   "pygments_lexer": "ipython3",
   "version": "3.8.12"
  }
 },
 "nbformat": 4,
 "nbformat_minor": 5
}
