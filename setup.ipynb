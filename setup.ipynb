{
 "cells": [
  {
   "cell_type": "markdown",
   "id": "f77269d3",
   "metadata": {},
   "source": [
    "# Advent of Code Setup\n",
    "Create folders to store each days challenge and data in"
   ]
  },
  {
   "cell_type": "code",
   "execution_count": null,
   "id": "1dd6b1ce",
   "metadata": {},
   "outputs": [],
   "source": [
    "import os\n",
    "advent_days =range(1,32)\n",
    "\n",
    "for i in advent_days:\n",
    "    os.mkdir(f'./day_{i}')"
   ]
  }
 ],
 "metadata": {
  "kernelspec": {
   "display_name": "Python 3 (ipykernel)",
   "language": "python",
   "name": "python3"
  },
  "language_info": {
   "codemirror_mode": {
    "name": "ipython",
    "version": 3
   },
   "file_extension": ".py",
   "mimetype": "text/x-python",
   "name": "python",
   "nbconvert_exporter": "python",
   "pygments_lexer": "ipython3",
   "version": "3.8.12"
  }
 },
 "nbformat": 4,
 "nbformat_minor": 5
}
