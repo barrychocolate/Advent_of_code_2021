{
 "cells": [
  {
   "cell_type": "markdown",
   "id": "dcc73471",
   "metadata": {},
   "source": [
    "[Back to the index](../index.html)"
   ]
  },
  {
   "cell_type": "markdown",
   "id": "47386d03",
   "metadata": {},
   "source": [
    "# Day 1"
   ]
  },
  {
   "cell_type": "markdown",
   "id": "80816e42",
   "metadata": {},
   "source": [
    "## Sonar Sweep\n",
    "\n",
    "view the [Advent of Code 2021 Day 1 challenge](https://adventofcode.com/2021/day/1)"
   ]
  },
  {
   "cell_type": "markdown",
   "id": "7607ae1f",
   "metadata": {},
   "source": [
    "* 199 (N/A - no previous measurement)\n",
    "* 200 (increased)\n",
    "* 208 (increased)\n",
    "* 210 (increased)\n",
    "* 200 (decreased)\n",
    "* 207 (increased)\n",
    "* 240 (increased)\n",
    "* 269 (increased)\n",
    "* 260 (decreased)\n",
    "* 263 (increased)\n",
    "\n",
    "In this example, there are 7 measurements that are larger than the previous measurement."
   ]
  },
  {
   "cell_type": "markdown",
   "id": "c3fb9af1",
   "metadata": {},
   "source": [
    "## Setup"
   ]
  },
  {
   "cell_type": "code",
   "execution_count": 55,
   "id": "451d66ae",
   "metadata": {},
   "outputs": [],
   "source": [
    "# Setup - load any packages\n",
    "import numpy as np"
   ]
  },
  {
   "cell_type": "markdown",
   "id": "23bd0026",
   "metadata": {},
   "source": [
    "## Load the data"
   ]
  },
  {
   "cell_type": "code",
   "execution_count": 56,
   "id": "3e0d5bcf",
   "metadata": {},
   "outputs": [
    {
     "data": {
      "text/plain": [
       "array([ 140.,  154.,  165., ..., 3591., 3595., 3596.])"
      ]
     },
     "execution_count": 56,
     "metadata": {},
     "output_type": "execute_result"
    }
   ],
   "source": [
    "data_raw = np.genfromtxt('day1_data.txt',delimiter=',')\n",
    "\n",
    "data_raw"
   ]
  },
  {
   "cell_type": "markdown",
   "id": "64127bcf",
   "metadata": {},
   "source": [
    "# Part 1\n",
    "How many measurements are larger than the previous measurement?"
   ]
  },
  {
   "cell_type": "code",
   "execution_count": 57,
   "id": "ba5e7400",
   "metadata": {},
   "outputs": [
    {
     "name": "stdout",
     "output_type": "stream",
     "text": [
      "[ 140.  154.  165. ... 3595. 3596. 3596.]\n",
      "[ 140.  140.  154. ... 3591. 3595. 3596.]\n"
     ]
    }
   ],
   "source": [
    "# create a numpy array\n",
    "data = data_raw\n",
    "\n",
    "# create additional numpy array\n",
    "# duplicate the first element at the start of the array to offset the elements\n",
    "data2=np.insert(data, 0, data[0], axis=0)\n",
    "\n",
    "# duplicate the last element at the end of the original data array so it is the same length as data2\n",
    "data=np.append(data, data[-1])\n",
    "\n",
    "print(data)\n",
    "print(data2)"
   ]
  },
  {
   "cell_type": "code",
   "execution_count": 58,
   "id": "e290e903",
   "metadata": {},
   "outputs": [
    {
     "name": "stdout",
     "output_type": "stream",
     "text": [
      "[False  True  True ...  True  True False]\n"
     ]
    },
    {
     "data": {
      "text/plain": [
       "1298"
      ]
     },
     "execution_count": 58,
     "metadata": {},
     "output_type": "execute_result"
    }
   ],
   "source": [
    "# Compare each of the elements in data array to see if it is greater than the element in data2 array\n",
    "compare=data>data2\n",
    "\n",
    "# view the results\n",
    "print(compare)\n",
    "\n",
    "# Get a count\n",
    "sum(compare)"
   ]
  },
  {
   "cell_type": "markdown",
   "id": "65683052",
   "metadata": {},
   "source": [
    "## Part 2\n",
    "view the [Advent of Code 2021 Day 1 challenge Part 2](https://adventofcode.com/2021/day/1#part2) "
   ]
  },
  {
   "cell_type": "code",
   "execution_count": 59,
   "id": "81cdc8b4",
   "metadata": {},
   "outputs": [
    {
     "name": "stdout",
     "output_type": "stream",
     "text": [
      "1248\n"
     ]
    }
   ],
   "source": [
    "def CompareSonarList(list1, list2):\n",
    "    return (sum(list1)<sum(list2))\n",
    "\n",
    "results = []\n",
    "\n",
    "for i in range(len(data_raw)-1):\n",
    "    #print (data_raw[i:i+3], data_raw[i+1:i+4])\n",
    "    results.append(CompareSonarList(data_raw[i:i+3], data_raw[i+1:i+4]))\n",
    "\n",
    "\n",
    "print(sum(results))"
   ]
  }
 ],
 "metadata": {
  "kernelspec": {
   "display_name": "Python 3 (ipykernel)",
   "language": "python",
   "name": "python3"
  },
  "language_info": {
   "codemirror_mode": {
    "name": "ipython",
    "version": 3
   },
   "file_extension": ".py",
   "mimetype": "text/x-python",
   "name": "python",
   "nbconvert_exporter": "python",
   "pygments_lexer": "ipython3",
   "version": "3.8.12"
  }
 },
 "nbformat": 4,
 "nbformat_minor": 5
}
